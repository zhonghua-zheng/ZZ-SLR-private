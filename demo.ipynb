{
 "cells": [
  {
   "cell_type": "markdown",
   "id": "182a8a93",
   "metadata": {},
   "source": [
    "## import the necessary python packages"
   ]
  },
  {
   "cell_type": "code",
   "execution_count": 1,
   "id": "66ce5562",
   "metadata": {},
   "outputs": [],
   "source": [
    "import pandas as pd\n",
    "import matplotlib.pyplot as plt\n",
    "from sklearn import linear_model\n",
    "from sklearn.metrics import mean_squared_error, r2_score\n",
    "from sklearn.model_selection import train_test_split"
   ]
  },
  {
   "cell_type": "markdown",
   "id": "b6274bde",
   "metadata": {},
   "source": [
    "## load data"
   ]
  },
  {
   "cell_type": "code",
   "execution_count": 2,
   "id": "752352ce",
   "metadata": {},
   "outputs": [],
   "source": [
    "df = pd.read_csv(\"./data.csv\")"
   ]
  },
  {
   "cell_type": "markdown",
   "id": "1a40612c",
   "metadata": {},
   "source": [
    "### show the first 5 samples"
   ]
  },
  {
   "cell_type": "code",
   "execution_count": 3,
   "id": "40f40519",
   "metadata": {},
   "outputs": [
    {
     "data": {
      "text/html": [
       "<div>\n",
       "<style scoped>\n",
       "    .dataframe tbody tr th:only-of-type {\n",
       "        vertical-align: middle;\n",
       "    }\n",
       "\n",
       "    .dataframe tbody tr th {\n",
       "        vertical-align: top;\n",
       "    }\n",
       "\n",
       "    .dataframe thead th {\n",
       "        text-align: right;\n",
       "    }\n",
       "</style>\n",
       "<table border=\"1\" class=\"dataframe\">\n",
       "  <thead>\n",
       "    <tr style=\"text-align: right;\">\n",
       "      <th></th>\n",
       "      <th>Solids_Reduction</th>\n",
       "      <th>Reduction_in_Oxygen_Demand</th>\n",
       "    </tr>\n",
       "  </thead>\n",
       "  <tbody>\n",
       "    <tr>\n",
       "      <th>0</th>\n",
       "      <td>3</td>\n",
       "      <td>5</td>\n",
       "    </tr>\n",
       "    <tr>\n",
       "      <th>1</th>\n",
       "      <td>7</td>\n",
       "      <td>11</td>\n",
       "    </tr>\n",
       "    <tr>\n",
       "      <th>2</th>\n",
       "      <td>11</td>\n",
       "      <td>21</td>\n",
       "    </tr>\n",
       "    <tr>\n",
       "      <th>3</th>\n",
       "      <td>15</td>\n",
       "      <td>16</td>\n",
       "    </tr>\n",
       "    <tr>\n",
       "      <th>4</th>\n",
       "      <td>18</td>\n",
       "      <td>16</td>\n",
       "    </tr>\n",
       "  </tbody>\n",
       "</table>\n",
       "</div>"
      ],
      "text/plain": [
       "   Solids_Reduction  Reduction_in_Oxygen_Demand\n",
       "0                 3                           5\n",
       "1                 7                          11\n",
       "2                11                          21\n",
       "3                15                          16\n",
       "4                18                          16"
      ]
     },
     "execution_count": 3,
     "metadata": {},
     "output_type": "execute_result"
    }
   ],
   "source": [
    "df.head(5)"
   ]
  },
  {
   "cell_type": "code",
   "execution_count": 4,
   "id": "e1f47610",
   "metadata": {},
   "outputs": [
    {
     "data": {
      "text/html": [
       "<div>\n",
       "<style scoped>\n",
       "    .dataframe tbody tr th:only-of-type {\n",
       "        vertical-align: middle;\n",
       "    }\n",
       "\n",
       "    .dataframe tbody tr th {\n",
       "        vertical-align: top;\n",
       "    }\n",
       "\n",
       "    .dataframe thead th {\n",
       "        text-align: right;\n",
       "    }\n",
       "</style>\n",
       "<table border=\"1\" class=\"dataframe\">\n",
       "  <thead>\n",
       "    <tr style=\"text-align: right;\">\n",
       "      <th></th>\n",
       "      <th>Solids_Reduction</th>\n",
       "      <th>Reduction_in_Oxygen_Demand</th>\n",
       "    </tr>\n",
       "  </thead>\n",
       "  <tbody>\n",
       "    <tr>\n",
       "      <th>0</th>\n",
       "      <td>3</td>\n",
       "      <td>5</td>\n",
       "    </tr>\n",
       "    <tr>\n",
       "      <th>1</th>\n",
       "      <td>7</td>\n",
       "      <td>11</td>\n",
       "    </tr>\n",
       "    <tr>\n",
       "      <th>2</th>\n",
       "      <td>11</td>\n",
       "      <td>21</td>\n",
       "    </tr>\n",
       "    <tr>\n",
       "      <th>3</th>\n",
       "      <td>15</td>\n",
       "      <td>16</td>\n",
       "    </tr>\n",
       "    <tr>\n",
       "      <th>4</th>\n",
       "      <td>18</td>\n",
       "      <td>16</td>\n",
       "    </tr>\n",
       "    <tr>\n",
       "      <th>5</th>\n",
       "      <td>27</td>\n",
       "      <td>28</td>\n",
       "    </tr>\n",
       "    <tr>\n",
       "      <th>6</th>\n",
       "      <td>29</td>\n",
       "      <td>27</td>\n",
       "    </tr>\n",
       "    <tr>\n",
       "      <th>7</th>\n",
       "      <td>30</td>\n",
       "      <td>25</td>\n",
       "    </tr>\n",
       "    <tr>\n",
       "      <th>8</th>\n",
       "      <td>30</td>\n",
       "      <td>35</td>\n",
       "    </tr>\n",
       "    <tr>\n",
       "      <th>9</th>\n",
       "      <td>31</td>\n",
       "      <td>30</td>\n",
       "    </tr>\n",
       "    <tr>\n",
       "      <th>10</th>\n",
       "      <td>31</td>\n",
       "      <td>40</td>\n",
       "    </tr>\n",
       "    <tr>\n",
       "      <th>11</th>\n",
       "      <td>32</td>\n",
       "      <td>32</td>\n",
       "    </tr>\n",
       "    <tr>\n",
       "      <th>12</th>\n",
       "      <td>33</td>\n",
       "      <td>34</td>\n",
       "    </tr>\n",
       "    <tr>\n",
       "      <th>13</th>\n",
       "      <td>33</td>\n",
       "      <td>32</td>\n",
       "    </tr>\n",
       "    <tr>\n",
       "      <th>14</th>\n",
       "      <td>34</td>\n",
       "      <td>34</td>\n",
       "    </tr>\n",
       "    <tr>\n",
       "      <th>15</th>\n",
       "      <td>36</td>\n",
       "      <td>37</td>\n",
       "    </tr>\n",
       "    <tr>\n",
       "      <th>16</th>\n",
       "      <td>36</td>\n",
       "      <td>38</td>\n",
       "    </tr>\n",
       "  </tbody>\n",
       "</table>\n",
       "</div>"
      ],
      "text/plain": [
       "    Solids_Reduction  Reduction_in_Oxygen_Demand\n",
       "0                  3                           5\n",
       "1                  7                          11\n",
       "2                 11                          21\n",
       "3                 15                          16\n",
       "4                 18                          16\n",
       "5                 27                          28\n",
       "6                 29                          27\n",
       "7                 30                          25\n",
       "8                 30                          35\n",
       "9                 31                          30\n",
       "10                31                          40\n",
       "11                32                          32\n",
       "12                33                          34\n",
       "13                33                          32\n",
       "14                34                          34\n",
       "15                36                          37\n",
       "16                36                          38"
      ]
     },
     "execution_count": 4,
     "metadata": {},
     "output_type": "execute_result"
    }
   ],
   "source": [
    "df"
   ]
  },
  {
   "cell_type": "markdown",
   "id": "6045d6a4",
   "metadata": {},
   "source": [
    "## 1. Workflow "
   ]
  },
  {
   "cell_type": "markdown",
   "id": "64e37f3b",
   "metadata": {},
   "source": [
    "### 1.1 get independent (X) and dependent variables (Y)"
   ]
  },
  {
   "cell_type": "code",
   "execution_count": 5,
   "id": "d780186a",
   "metadata": {},
   "outputs": [],
   "source": [
    "X = df[[\"Solids_Reduction\"]].values\n",
    "y = df[[\"Reduction_in_Oxygen_Demand\"]].values"
   ]
  },
  {
   "cell_type": "code",
   "execution_count": 6,
   "id": "f2e8bd09",
   "metadata": {},
   "outputs": [
    {
     "data": {
      "image/png": "[encoded data removed]",
      "text/plain": [
       "<Figure size 432x288 with 1 Axes>"
      ]
     },
     "metadata": {
      "needs_background": "light"
     },
     "output_type": "display_data"
    }
   ],
   "source": [
    "plt.scatter(X,y,c=\"red\")\n",
    "plt.xlabel(\"Solid Reduction (%)\")\n",
    "plt.ylabel(\"Reduction in Oxygen Demand (%)\")\n",
    "plt.show()"
   ]
  },
  {
   "cell_type": "markdown",
   "id": "37906980",
   "metadata": {},
   "source": [
    "### 1.2 create an linear regression object, then train the model"
   ]
  },
  {
   "cell_type": "code",
   "execution_count": 7,
   "id": "d59280d0",
   "metadata": {},
   "outputs": [
    {
     "name": "stdout",
     "output_type": "stream",
     "text": [
      "We have trained a linear model!\n"
     ]
    }
   ],
   "source": [
    "regr = linear_model.LinearRegression()\n",
    "regr.fit(X,y)\n",
    "print(\"We have trained a linear model!\")"
   ]
  },
  {
   "cell_type": "markdown",
   "id": "d3946908",
   "metadata": {},
   "source": [
    "#### show the parameters"
   ]
  },
  {
   "cell_type": "code",
   "execution_count": 8,
   "id": "51b92ee6",
   "metadata": {},
   "outputs": [
    {
     "name": "stdout",
     "output_type": "stream",
     "text": [
      "beta_0 (intercept) is: 4.241692439297228\n"
     ]
    }
   ],
   "source": [
    "beta_0 = regr.intercept_.item()\n",
    "print(\"beta_0 (intercept) is:\", beta_0)"
   ]
  },
  {
   "cell_type": "code",
   "execution_count": 9,
   "id": "d5c53b11",
   "metadata": {},
   "outputs": [
    {
     "name": "stdout",
     "output_type": "stream",
     "text": [
      "beta_1 (slope) is: 0.8919523590182272\n"
     ]
    }
   ],
   "source": [
    "beta_1 = regr.coef_.item()\n",
    "print(\"beta_1 (slope) is:\", beta_1)"
   ]
  },
  {
   "cell_type": "markdown",
   "id": "28dc8d06",
   "metadata": {},
   "source": [
    "### 1.3 apply the model"
   ]
  },
  {
   "cell_type": "markdown",
   "id": "8b6956dc",
   "metadata": {},
   "source": [
    "#### 1.3.1 based on parameters"
   ]
  },
  {
   "cell_type": "code",
   "execution_count": 10,
   "id": "68d239a6",
   "metadata": {},
   "outputs": [],
   "source": [
    "y_hat_equation = beta_0 + beta_1*X"
   ]
  },
  {
   "cell_type": "code",
   "execution_count": 11,
   "id": "7b0b1c18",
   "metadata": {},
   "outputs": [
    {
     "data": {
      "image/png": "[encoded data removed]",
      "text/plain": [
       "<Figure size 432x288 with 1 Axes>"
      ]
     },
     "metadata": {
      "needs_background": "light"
     },
     "output_type": "display_data"
    }
   ],
   "source": [
    "plt.scatter(X,y,c=\"red\",label=\"true value\")\n",
    "plt.scatter(X,y_hat_equation,c=\"blue\",label=\"calculate based on parameters\")\n",
    "plt.plot([X[0],X[-1]],[y_hat_equation[0],y_hat_equation[-1]],label=\"linear function f(X)\")\n",
    "plt.xlabel(\"Solid Reduction (%)\")\n",
    "plt.ylabel(\"Reduction in Oxygen Demand (%)\")\n",
    "plt.legend()\n",
    "plt.show()"
   ]
  },
  {
   "cell_type": "markdown",
   "id": "97124628",
   "metadata": {},
   "source": [
    "#### 1.3.2 use the method \"predict\""
   ]
  },
  {
   "cell_type": "code",
   "execution_count": 12,
   "id": "af605a10",
   "metadata": {},
   "outputs": [],
   "source": [
    "y_hat = regr.predict(X)"
   ]
  },
  {
   "cell_type": "code",
   "execution_count": 13,
   "id": "77527e27",
   "metadata": {},
   "outputs": [
    {
     "data": {
      "image/png": "[encoded data removed]",
      "text/plain": [
       "<Figure size 432x288 with 1 Axes>"
      ]
     },
     "metadata": {
      "needs_background": "light"
     },
     "output_type": "display_data"
    }
   ],
   "source": [
    "plt.scatter(X, y, c=\"red\", label=\"true value\")\n",
    "plt.scatter(X, y_hat_equation, c=\"blue\", label=\"calculate based on parameters\")\n",
    "plt.plot([X[0],X[-1]],[y_hat_equation[0],y_hat_equation[-1]], label=\"linear function f(X)\")\n",
    "\n",
    "plt.scatter(X, y_hat, c=\"black\", label='use the method \"predict\"')\n",
    "\n",
    "plt.xlabel(\"Solid Reduction (%)\")\n",
    "plt.ylabel(\"Reduction in Oxygen Demand (%)\")\n",
    "plt.legend()\n",
    "plt.show()"
   ]
  },
  {
   "cell_type": "markdown",
   "id": "4a20e377",
   "metadata": {},
   "source": [
    "### 1.4 model evaluation"
   ]
  },
  {
   "cell_type": "code",
   "execution_count": 14,
   "id": "db85b8c4",
   "metadata": {},
   "outputs": [
    {
     "name": "stdout",
     "output_type": "stream",
     "text": [
      "root-mean-square-error: 3.52606289504984\n",
      "r2: 0.8706282297466746\n"
     ]
    }
   ],
   "source": [
    "print(\"root-mean-square-error:\", mean_squared_error(y_true=y, y_pred=y_hat, squared=False))\n",
    "print(\"r2:\", r2_score(y_true=y, y_pred=y_hat))"
   ]
  },
  {
   "cell_type": "markdown",
   "id": "85f461ce",
   "metadata": {},
   "source": [
    "## 2. If we don't have an independent testing dataset"
   ]
  },
  {
   "cell_type": "markdown",
   "id": "520b16e0",
   "metadata": {},
   "source": [
    "### 2.1 split the whole data into training and testing data"
   ]
  },
  {
   "cell_type": "code",
   "execution_count": 15,
   "id": "4a917d37",
   "metadata": {},
   "outputs": [
    {
     "name": "stdout",
     "output_type": "stream",
     "text": [
      "We have trained a linear model!\n"
     ]
    }
   ],
   "source": [
    "X_train, X_test, y_train, y_test = train_test_split(X, y, test_size=0.33, random_state=520)\n",
    "\n",
    "regr = linear_model.LinearRegression()\n",
    "regr.fit(X_train,y_train)\n",
    "print(\"We have trained a linear model!\")"
   ]
  },
  {
   "cell_type": "markdown",
   "id": "7c1f0021",
   "metadata": {},
   "source": [
    "### 2.2 training results"
   ]
  },
  {
   "cell_type": "code",
   "execution_count": 16,
   "id": "29ad2a09",
   "metadata": {},
   "outputs": [
    {
     "name": "stdout",
     "output_type": "stream",
     "text": [
      "root mean square error: 3.5752779560467345\n",
      "r2: 0.8681643276489738\n"
     ]
    }
   ],
   "source": [
    "y_pred = regr.predict(X_train)\n",
    "print(\"root mean square error:\", mean_squared_error(y_true=y_train, y_pred=y_pred, squared=False))\n",
    "print(\"r2:\", r2_score(y_true=y_train, y_pred=y_pred))"
   ]
  },
  {
   "cell_type": "markdown",
   "id": "3d859508",
   "metadata": {},
   "source": [
    "### 2.3  testing results"
   ]
  },
  {
   "cell_type": "code",
   "execution_count": 17,
   "id": "5c8fc538",
   "metadata": {},
   "outputs": [
    {
     "name": "stdout",
     "output_type": "stream",
     "text": [
      "root mean square error: 4.034353685962457\n",
      "r2: 0.8117775946406043\n"
     ]
    }
   ],
   "source": [
    "y_pred = regr.predict(X_test)\n",
    "print(\"root mean square error:\", mean_squared_error(y_true=y_test, y_pred=y_pred, squared=False))\n",
    "print(\"r2:\", r2_score(y_true=y_test, y_pred=y_pred))"
   ]
  },
  {
   "cell_type": "code",
   "execution_count": 18,
   "id": "ae09c128",
   "metadata": {},
   "outputs": [
    {
     "data": {
      "image/png": "[encoded data removed]",
      "text/plain": [
       "<Figure size 432x288 with 1 Axes>"
      ]
     },
     "metadata": {
      "needs_background": "light"
     },
     "output_type": "display_data"
    }
   ],
   "source": [
    "plt.scatter(X_test, y_test, c=\"red\", label=\"true value\")\n",
    "plt.scatter(X_test, y_pred, c=\"blue\", label=\"predicted value\")\n",
    "\n",
    "plt.xlabel(\"Solid Reduction (%)\")\n",
    "plt.ylabel(\"Reduction in Oxygen Demand (%)\")\n",
    "plt.legend()\n",
    "plt.show()"
   ]
  },
  {
   "cell_type": "code",
   "execution_count": null,
   "id": "8c3e1531",
   "metadata": {},
   "outputs": [],
   "source": []
  }
 ],
 "metadata": {
  "kernelspec": {
   "display_name": "Python 3 (ipykernel)",
   "language": "python",
   "name": "python3"
  },
  "language_info": {
   "codemirror_mode": {
    "name": "ipython",
    "version": 3
   },
   "file_extension": ".py",
   "mimetype": "text/x-python",
   "name": "python",
   "nbconvert_exporter": "python",
   "pygments_lexer": "ipython3",
   "version": "3.8.0"
  }
 },
 "nbformat": 4,
 "nbformat_minor": 5
}
