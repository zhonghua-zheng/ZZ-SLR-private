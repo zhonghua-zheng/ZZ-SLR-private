{
 "cells": [
  {
   "cell_type": "markdown",
   "id": "182a8a93",
   "metadata": {},
   "source": [
    "## import the necessary python packages"
   ]
  },
  {
   "cell_type": "code",
   "execution_count": null,
   "id": "66ce5562",
   "metadata": {},
   "outputs": [],
   "source": [
    "import pandas as pd\n",
    "import matplotlib.pyplot as plt\n",
    "from sklearn import linear_model\n",
    "from sklearn.metrics import mean_squared_error, r2_score\n",
    "from sklearn.model_selection import train_test_split"
   ]
  },
  {
   "cell_type": "markdown",
   "id": "b6274bde",
   "metadata": {},
   "source": [
    "## load data"
   ]
  },
  {
   "cell_type": "code",
   "execution_count": null,
   "id": "752352ce",
   "metadata": {},
   "outputs": [],
   "source": [
    "df = pd.read_csv(\"./data.csv\")"
   ]
  },
  {
   "cell_type": "markdown",
   "id": "1a40612c",
   "metadata": {},
   "source": [
    "### show the first 5 samples"
   ]
  },
  {
   "cell_type": "code",
   "execution_count": null,
   "id": "40f40519",
   "metadata": {},
   "outputs": [],
   "source": [
    "df.head(5)"
   ]
  },
  {
   "cell_type": "markdown",
   "id": "6045d6a4",
   "metadata": {},
   "source": [
    "## 1. Workflow "
   ]
  },
  {
   "cell_type": "markdown",
   "id": "64e37f3b",
   "metadata": {},
   "source": [
    "### 1.1 get independent (X) and dependent variables (Y)"
   ]
  },
  {
   "cell_type": "code",
   "execution_count": null,
   "id": "d780186a",
   "metadata": {},
   "outputs": [],
   "source": [
    "X = df[[\"Solids_Reduction\"]].values\n",
    "y = df[[\"Reduction_in_Oxygen_Demand\"]].values"
   ]
  },
  {
   "cell_type": "code",
   "execution_count": null,
   "id": "f2e8bd09",
   "metadata": {},
   "outputs": [],
   "source": [
    "plt.scatter(X,y,c=\"red\")\n",
    "plt.xlabel(\"Solid Reduction (%)\")\n",
    "plt.ylabel(\"Reduction in Oxygen Demand (%)\")\n",
    "plt.show()"
   ]
  },
  {
   "cell_type": "markdown",
   "id": "37906980",
   "metadata": {},
   "source": [
    "### 1.2 create an linear regression object, then train the model"
   ]
  },
  {
   "cell_type": "code",
   "execution_count": null,
   "id": "d59280d0",
   "metadata": {},
   "outputs": [],
   "source": [
    "regr = linear_model.LinearRegression()\n",
    "regr.fit(X,y)\n",
    "print(\"We have trained a linear model!\")"
   ]
  },
  {
   "cell_type": "markdown",
   "id": "d3946908",
   "metadata": {},
   "source": [
    "#### show the parameters"
   ]
  },
  {
   "cell_type": "code",
   "execution_count": null,
   "id": "51b92ee6",
   "metadata": {},
   "outputs": [],
   "source": [
    "beta_0 = regr.intercept_.item()\n",
    "print(\"beta_0 (intercept) is:\", beta_0)"
   ]
  },
  {
   "cell_type": "code",
   "execution_count": null,
   "id": "d5c53b11",
   "metadata": {},
   "outputs": [],
   "source": [
    "beta_1 = regr.coef_.item()\n",
    "print(\"beta_1 (slope) is:\", beta_1)"
   ]
  },
  {
   "cell_type": "markdown",
   "id": "28dc8d06",
   "metadata": {},
   "source": [
    "### 1.3 apply the model"
   ]
  },
  {
   "cell_type": "markdown",
   "id": "8b6956dc",
   "metadata": {},
   "source": [
    "#### 1.3.1 based on parameters"
   ]
  },
  {
   "cell_type": "code",
   "execution_count": null,
   "id": "68d239a6",
   "metadata": {},
   "outputs": [],
   "source": [
    "y_hat_equation = beta_0 + beta_1*X"
   ]
  },
  {
   "cell_type": "code",
   "execution_count": null,
   "id": "7b0b1c18",
   "metadata": {},
   "outputs": [],
   "source": [
    "plt.scatter(X,y,c=\"red\",label=\"true value\")\n",
    "plt.scatter(X,y_hat_equation,c=\"blue\",label=\"calculate based on parameters\")\n",
    "plt.plot([X[0],X[-1]],[y_hat_equation[0],y_hat_equation[-1]],label=\"linear function f(X)\")\n",
    "plt.xlabel(\"Solid Reduction (%)\")\n",
    "plt.ylabel(\"Reduction in Oxygen Demand (%)\")\n",
    "plt.legend()\n",
    "plt.show()"
   ]
  },
  {
   "cell_type": "markdown",
   "id": "97124628",
   "metadata": {},
   "source": [
    "#### 1.3.2 use the method \"predict\""
   ]
  },
  {
   "cell_type": "code",
   "execution_count": null,
   "id": "af605a10",
   "metadata": {},
   "outputs": [],
   "source": [
    "y_hat = regr.predict(X)"
   ]
  },
  {
   "cell_type": "code",
   "execution_count": null,
   "id": "77527e27",
   "metadata": {},
   "outputs": [],
   "source": [
    "plt.scatter(X, y, c=\"red\", label=\"true value\")\n",
    "plt.scatter(X, y_hat_equation, c=\"blue\", label=\"calculate based on parameters\")\n",
    "plt.plot([X[0],X[-1]],[y_hat_equation[0],y_hat_equation[-1]], label=\"linear function f(X)\")\n",
    "\n",
    "plt.scatter(X, y_hat, c=\"black\", label='use the method \"predict\"')\n",
    "\n",
    "plt.xlabel(\"Solid Reduction (%)\")\n",
    "plt.ylabel(\"Reduction in Oxygen Demand (%)\")\n",
    "plt.legend()\n",
    "plt.show()"
   ]
  },
  {
   "cell_type": "markdown",
   "id": "4a20e377",
   "metadata": {},
   "source": [
    "### 1.4 model evaluation"
   ]
  },
  {
   "cell_type": "code",
   "execution_count": null,
   "id": "db85b8c4",
   "metadata": {},
   "outputs": [],
   "source": [
    "print(\"root-mean-square-error:\", mean_squared_error(y_true=y, y_pred=y_hat, squared=False))\n",
    "print(\"r2:\", r2_score(y_true=y, y_pred=y_hat))"
   ]
  },
  {
   "cell_type": "markdown",
   "id": "85f461ce",
   "metadata": {},
   "source": [
    "## 2. If we don't have an independent testing dataset"
   ]
  },
  {
   "cell_type": "markdown",
   "id": "520b16e0",
   "metadata": {},
   "source": [
    "### 2.1 split the whole data into training and testing data"
   ]
  },
  {
   "cell_type": "code",
   "execution_count": null,
   "id": "4a917d37",
   "metadata": {},
   "outputs": [],
   "source": [
    "X_train, X_test, y_train, y_test = train_test_split(X, y, test_size=0.33, random_state=520)\n",
    "\n",
    "regr = linear_model.LinearRegression()\n",
    "regr.fit(X_train,y_train)\n",
    "print(\"We have trained a linear model!\")"
   ]
  },
  {
   "cell_type": "markdown",
   "id": "7c1f0021",
   "metadata": {},
   "source": [
    "### 2.2 training results"
   ]
  },
  {
   "cell_type": "code",
   "execution_count": null,
   "id": "29ad2a09",
   "metadata": {},
   "outputs": [],
   "source": [
    "y_pred = regr.predict(X_train)\n",
    "print(\"root mean square error:\", mean_squared_error(y_true=y_train, y_pred=y_pred, squared=False))\n",
    "print(\"r2:\", r2_score(y_true=y_train, y_pred=y_pred))"
   ]
  },
  {
   "cell_type": "markdown",
   "id": "3d859508",
   "metadata": {},
   "source": [
    "### 2.3  testing results"
   ]
  },
  {
   "cell_type": "code",
   "execution_count": null,
   "id": "5c8fc538",
   "metadata": {},
   "outputs": [],
   "source": [
    "y_pred = regr.predict(X_test)\n",
    "print(\"root mean square error:\", mean_squared_error(y_true=y_test, y_pred=y_pred, squared=False))\n",
    "print(\"r2:\", r2_score(y_true=y_test, y_pred=y_pred))"
   ]
  },
  {
   "cell_type": "code",
   "execution_count": null,
   "id": "ae09c128",
   "metadata": {},
   "outputs": [],
   "source": [
    "plt.scatter(X_test, y_test, c=\"red\", label=\"true value\")\n",
    "plt.scatter(X_test, y_pred, c=\"blue\", label=\"predicted value\")\n",
    "\n",
    "plt.xlabel(\"Solid Reduction (%)\")\n",
    "plt.ylabel(\"Reduction in Oxygen Demand (%)\")\n",
    "plt.legend()\n",
    "plt.show()"
   ]
  }
 ],
 "metadata": {
  "kernelspec": {
   "display_name": "Python 3 (ipykernel)",
   "language": "python",
   "name": "python3"
  },
  "language_info": {
   "codemirror_mode": {
    "name": "ipython",
    "version": 3
   },
   "file_extension": ".py",
   "mimetype": "text/x-python",
   "name": "python",
   "nbconvert_exporter": "python",
   "pygments_lexer": "ipython3",
   "version": "3.8.0"
  }
 },
 "nbformat": 4,
 "nbformat_minor": 5
}
